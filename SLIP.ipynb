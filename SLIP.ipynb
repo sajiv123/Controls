{
 "cells": [
  {
   "cell_type": "code",
   "execution_count": 1,
   "metadata": {},
   "outputs": [
    {
     "ename": "ModuleNotFoundError",
     "evalue": "No module named 'sympy'",
     "output_type": "error",
     "traceback": [
      "\u001b[0;31m---------------------------------------------------------------------------\u001b[0m",
      "\u001b[0;31mModuleNotFoundError\u001b[0m                       Traceback (most recent call last)",
      "Cell \u001b[0;32mIn[1], line 3\u001b[0m\n\u001b[1;32m      1\u001b[0m \u001b[38;5;66;03m# flight phase\u001b[39;00m\n\u001b[1;32m      2\u001b[0m \u001b[38;5;28;01mimport\u001b[39;00m \u001b[38;5;21;01mnumpy\u001b[39;00m \u001b[38;5;28;01mas\u001b[39;00m \u001b[38;5;21;01mnp\u001b[39;00m\n\u001b[0;32m----> 3\u001b[0m \u001b[38;5;28;01mfrom\u001b[39;00m \u001b[38;5;21;01msympy\u001b[39;00m \u001b[38;5;28;01mimport\u001b[39;00m symbols, Matrix, derive_by_array\n\u001b[1;32m      5\u001b[0m \u001b[38;5;66;03m#defined variables\u001b[39;00m\n\u001b[1;32m      6\u001b[0m m \u001b[38;5;241m=\u001b[39m \u001b[38;5;241m0.5\u001b[39m \u001b[38;5;66;03m#kg\u001b[39;00m\n",
      "\u001b[0;31mModuleNotFoundError\u001b[0m: No module named 'sympy'"
     ]
    }
   ],
   "source": [
    "# flight phase\n",
    "import numpy as np\n",
    "from sympy import symbols, Matrix, derive_by_array\n",
    "\n",
    "#defined variables\n",
    "m = 0.5 #kg\n",
    "g = -9.81 #m/s^2\n",
    "\n",
    "x, y, th, dx, dy, dth, t  = symbols('x y th dx dy dth t')\n",
    "q = np.array([x, y, th])[:, np.newaxis]\n",
    "q_dot = np.array([dx, dy, dth])[:, np.newaxis]\n",
    "\n",
    "p = q\n",
    "v = derive_by_array(p,q)*q_dot\n",
    "\n",
    "PE = m*g*q[1]\n",
    "KE = 1/2*m*np.multiply(v, v)\n",
    "L = KE - PE\n",
    "\n",
    "dLdq = derive_by_array(L,q)\n",
    "dLdq_dot = derive_by_array(L,q_dot)\n",
    "\n",
    "eom = derive_by_array(L,t) - dLdq_dot\n",
    "println(eom)\n",
    "\n",
    "\n"
   ]
  }
 ],
 "metadata": {
  "kernelspec": {
   "display_name": "Python 3",
   "language": "python",
   "name": "python3"
  },
  "language_info": {
   "codemirror_mode": {
    "name": "ipython",
    "version": 3
   },
   "file_extension": ".py",
   "mimetype": "text/x-python",
   "name": "python",
   "nbconvert_exporter": "python",
   "pygments_lexer": "ipython3",
   "version": "3.9.6"
  }
 },
 "nbformat": 4,
 "nbformat_minor": 2
}
