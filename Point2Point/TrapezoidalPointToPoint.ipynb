{
 "cells": [
  {
   "cell_type": "code",
   "execution_count": 39,
   "id": "9cf48ace",
   "metadata": {},
   "outputs": [],
   "source": [
    "import math\n",
    "import numpy as np\n",
    "import sympy\n",
    "import matplotlib.pyplot as plt\n",
    "from matplotlib.animation import PillowWriter"
   ]
  },
  {
   "cell_type": "code",
   "execution_count": 40,
   "id": "1df4379f",
   "metadata": {},
   "outputs": [],
   "source": [
    "d = 0.4 #meters"
   ]
  },
  {
   "cell_type": "code",
   "execution_count": 41,
   "id": "b87a07b2",
   "metadata": {},
   "outputs": [],
   "source": [
    "g = 9.8 #m/s^2\n",
    "a_max = 2 #m/s^2\n",
    "v_max = 0.5 #m/s\n",
    "\n",
    "t = 0\n",
    "interval = .005"
   ]
  },
  {
   "cell_type": "code",
   "execution_count": 42,
   "id": "9c57cfa7",
   "metadata": {},
   "outputs": [
    {
     "name": "stdout",
     "output_type": "stream",
     "text": [
      "1.05\n"
     ]
    },
    {
     "data": {
      "image/png": "[encoded data removed]",
      "text/plain": [
       "<Figure size 640x480 with 3 Axes>"
      ]
     },
     "metadata": {},
     "output_type": "display_data"
    }
   ],
   "source": [
    "x_accdec = v_max**2/a_max #distance travelled in triangle shape that reaches max v\n",
    "\n",
    "T_m = 0\n",
    "T_accel = 0\n",
    "T_decel = 0\n",
    "T_const = 0\n",
    "\n",
    "\n",
    "x = []\n",
    "y_p = []\n",
    "y_v = []\n",
    "y_a = []\n",
    "\n",
    "fig, axs = plt.subplots(3)\n",
    "writer = PillowWriter(fps = 25)\n",
    "with writer.saving(fig,'trap4.gif',100):\n",
    "    if d <= x_accdec:\n",
    "        T_accel = math.sqrt(d/a_max)\n",
    "        T_decel = T_accel\n",
    "        T_m = T_accel + T_decel\n",
    "        axs[0].set_xlim(0,T_m)\n",
    "        axs[0].set_ylim(-.005,d+.005)\n",
    "        axs[1].set_xlim(0,T_m)\n",
    "        axs[1].set_ylim(0,v_max+.01)\n",
    "        axs[2].set_xlim(0,T_m)\n",
    "        axs[2].set_ylim(-a_max-.1,a_max+.1)\n",
    "        while(t <= T_m):\n",
    "            if t <= T_accel:\n",
    "                y_a.append(a_max)\n",
    "                y_v.append(a_max*t)\n",
    "                y_p.append(a_max*t**2/2)\n",
    "            else:\n",
    "                t_r = t - T_accel\n",
    "                v_m = T_accel*a_max\n",
    "                y_a.append(-a_max)\n",
    "                y_v.append(v_m - a_max*t_r)\n",
    "                y_p.append(a_max*T_accel**2/2 + (v_m*t_r - a_max*t_r**2/2))\n",
    "            x.append(t)\n",
    "            t += interval\n",
    "            axs[0].plot(x,y_p,'-k')\n",
    "            axs[1].plot(x,y_v,'-b')\n",
    "            axs[2].plot(x,y_a,'-r')\n",
    "            writer.grab_frame()\n",
    "\n",
    "\n",
    "    else:\n",
    "        T_accel = v_max/a_max\n",
    "        T_decel = T_accel\n",
    "        T_const = (d - x_accdec)/v_max\n",
    "        T_m = T_accel + T_decel + T_const\n",
    "        axs[0].set_xlim(0,T_m)\n",
    "        axs[0].set_ylim(-.005,d+.005)\n",
    "        axs[1].set_xlim(0,T_m)\n",
    "        axs[1].set_ylim(0,v_max+.025)\n",
    "        axs[2].set_xlim(0,T_m)\n",
    "        axs[2].set_ylim(-a_max-.2,a_max+.2)\n",
    "        while(t <= T_m):\n",
    "            if t <= T_accel:\n",
    "                y_a.append(a_max)\n",
    "                y_v.append(a_max*t)\n",
    "                y_p.append(a_max*t**2/2)\n",
    "            elif(t < T_accel + T_const):\n",
    "                y_a.append(0)\n",
    "                y_v.append(v_max)\n",
    "                y_p.append(a_max*T_accel**2/2 + v_max*(t - T_accel))\n",
    "            else:\n",
    "                t_r = t - T_accel - T_const\n",
    "                y_r = a_max*T_accel**2/2 + v_max*T_const\n",
    "                y_a.append(-a_max)\n",
    "                y_v.append(v_max - a_max*t_r)\n",
    "                y_p.append(y_r + (v_max*t_r - a_max*t_r**2/2))\n",
    "            x.append(t)\n",
    "            t += interval\n",
    "            axs[0].plot(x,y_p,'-k')\n",
    "            axs[1].plot(x,y_v,'-b')\n",
    "            axs[2].plot(x,y_a,'-r')\n",
    "            writer.grab_frame()\n",
    "print(T_m)"
   ]
  },
  {
   "cell_type": "markdown",
   "id": "f6d9786d",
   "metadata": {},
   "source": [
    "<img src=\"trap4.gif\" width=\"400\" align=\"left\">"
   ]
  },
  {
   "cell_type": "code",
   "execution_count": null,
   "id": "f87b7534",
   "metadata": {},
   "outputs": [],
   "source": []
  }
 ],
 "metadata": {
  "kernelspec": {
   "display_name": "Python 3 (ipykernel)",
   "language": "python",
   "name": "python3"
  },
  "language_info": {
   "codemirror_mode": {
    "name": "ipython",
    "version": 3
   },
   "file_extension": ".py",
   "mimetype": "text/x-python",
   "name": "python",
   "nbconvert_exporter": "python",
   "pygments_lexer": "ipython3",
   "version": "3.11.5"
  }
 },
 "nbformat": 4,
 "nbformat_minor": 5
}
